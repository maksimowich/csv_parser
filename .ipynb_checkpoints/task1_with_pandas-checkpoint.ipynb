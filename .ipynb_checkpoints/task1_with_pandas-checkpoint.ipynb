{
 "cells": [
  {
   "cell_type": "code",
   "execution_count": null,
   "id": "7b6841ab-c57f-4fee-8218-6f93aebd36ed",
   "metadata": {
    "tags": []
   },
   "outputs": [],
   "source": [
    "!pip install clickhouse_connect"
   ]
  },
  {
   "cell_type": "code",
   "execution_count": null,
   "id": "4eef7bc4-f592-4ddb-8c8a-c0064e4875a8",
   "metadata": {
    "tags": []
   },
   "outputs": [],
   "source": [
    "!pip install numpy\n",
    "!pip install pandas"
   ]
  },
  {
   "cell_type": "markdown",
   "id": "87d5b101-6009-4fe0-8eb6-6ba026121219",
   "metadata": {
    "tags": []
   },
   "source": [
    "#### Вспомогательные функции для обработки строк"
   ]
  },
  {
   "cell_type": "code",
   "execution_count": 1,
   "id": "f43b6bef-6596-4561-884b-0c9f1cf77f1c",
   "metadata": {
    "tags": []
   },
   "outputs": [],
   "source": [
    "#helper functions\n",
    "\n",
    "def get_type_of_string_value(str_value, is_nullable):\n",
    "    if str_value == '':\n",
    "        return None\n",
    "    try:\n",
    "        int(str_value)\n",
    "        return 'Nullable(Int)' if is_nullable else 'Int'\n",
    "    except ValueError:\n",
    "        pass\n",
    "    try:\n",
    "        float(str_value)\n",
    "        return 'Nullable(Float)' if is_nullable else 'Int'\n",
    "    except ValueError:\n",
    "        pass\n",
    "    return 'Nullable(String)' if is_nullable else 'Int'\n",
    "\n",
    "\n",
    "def get_value_or_null(value, expected_type):\n",
    "    if value == '':\n",
    "        return 'Null'\n",
    "    elif expected_type in (int, float):\n",
    "        try:\n",
    "            expected_type(value)\n",
    "            return str(value)\n",
    "        except ValueError:\n",
    "            return 'Null'\n",
    "    elif expected_type == str:\n",
    "        return \"'\" + value + \"'\"\n",
    "\n",
    "\n",
    "def remove_first_escape(str_value):\n",
    "    if str_value.startswith('\\n'):\n",
    "        return str_value[1:]\n",
    "    else:\n",
    "        return str_value\n",
    "\n",
    "    \n",
    "def convert_list_to_dict(lst):\n",
    "    res_dct = {lst[i]: lst[i + 1] for i in range(0, len(lst), 2)}\n",
    "    return res_dct\n"
   ]
  },
  {
   "cell_type": "markdown",
   "id": "13b16df7-a77e-48e1-afdb-a06c720799b5",
   "metadata": {
    "tags": []
   },
   "source": [
    "##### *__get_create_query_based_on_csv_file__* возвращает  sql-запрос в виде строки на создание таблицы\n",
    "##### *__get_column_types_from_csv__* возвращает словарь {имя колонки: тип колонки, ...}, основанный на csv файле"
   ]
  },
  {
   "cell_type": "code",
   "execution_count": 19,
   "id": "55151fdc-3c70-48ad-aa1a-0b271c367602",
   "metadata": {
    "tags": []
   },
   "outputs": [],
   "source": [
    "import csv\n",
    "\n",
    "\n",
    "def get_column_types_from_csv(path_to_csv_file, order_column_names):\n",
    "    dict_of_column_types = dict()\n",
    "    with open(path_to_csv_file, 'r') as file:\n",
    "        for row in csv.DictReader(file):\n",
    "            dict_of_column_types.update({column_name: get_type_of_string_value(value, is_nullable=(column_name not in order_column_names))\n",
    "                                            for column_name, value in row.items()\n",
    "                                            if column_name not in dict_of_column_types or value is not None})\n",
    "            if None not in dict_of_column_types.values():\n",
    "                break\n",
    "    return dict_of_column_types\n",
    "\n",
    "\n",
    "def get_create_query_based_on_csv_file(path_to_csv_file,\n",
    "                                       table_name_to_create,\n",
    "                                       order_column_names,\n",
    "                                       table_engine='MergeTree'):\n",
    "    dict_of_column_types = get_column_types_from_csv(path_to_csv_file, order_column_names)\n",
    "    string_of_column_names_and_types = \", \".join(['`' + column_name + '` ' + column_type\n",
    "                                                    for column_name, column_type in dict_of_column_types.items()])\n",
    "    return ('''CREATE TABLE IF NOT EXISTS {} ({}) ENGINE = {} ORDER BY ({});'''\n",
    "        .format(table_name_to_create,\n",
    "                string_of_column_names_and_types,\n",
    "                table_engine,\n",
    "                ', '.join(list(map(lambda x: '`' + x + '`', order_column_names)))))\n"
   ]
  },
  {
   "cell_type": "markdown",
   "id": "18321107-96a9-419a-86dd-18860b401d1b",
   "metadata": {
    "tags": []
   },
   "source": [
    "##### *__get_column_types_from_table__* возвращает словарь {имя колонки: тип колонки, ...}, основанный таблице\n",
    "##### *__do_insert__* осуществляет вставку строк из csv в таблицу"
   ]
  },
  {
   "cell_type": "code",
   "execution_count": 25,
   "id": "57f2a3fb-7ffb-4e5a-ba15-a9d0791dfe94",
   "metadata": {
    "tags": []
   },
   "outputs": [],
   "source": [
    "type_mapper = {'Int32': int,\n",
    "               'Float32': float,\n",
    "               'String': str,\n",
    "               'Nullable(Int32)': int,\n",
    "               'Nullable(Float32)': float,\n",
    "               'Nullable(String)': str}\n",
    "\n",
    "\n",
    "def get_column_types_from_table(client, table_name):\n",
    "    query_result = client.command('DESCRIBE TABLE {};'.format(table_name))\n",
    "    query_result_adapted = map(remove_first_escape, (filter(lambda x : x != '', query_result)))\n",
    "    list_of_column_names_and_types = list(map(lambda x: type_mapper.get(x, x), query_result_adapted))\n",
    "    return convert_list_to_dict(list_of_column_names_and_types)\n",
    "\n",
    "\n",
    "def do_insert(client, path_to_csv_file, table_name):\n",
    "    df_iterator = pd.read_csv(path_to_csv_file, chunksize=1000, na_filter=False)\n",
    "    column_types = get_column_types_from_table(client, table_name)\n",
    "    for df in df_iterator:\n",
    "        for row_index in range(df.shape[0]):\n",
    "            row_values = \", \".join([get_value_or_null(str(column_value), column_types[column_name]) for column_name, column_value in df.iloc[row_index].to_dict().items()])\n",
    "            insert_query = '''INSERT INTO {} (*) VALUES ({});'''.format(table_name, row_values)\n",
    "            client.command(insert_query)\n"
   ]
  },
  {
   "cell_type": "markdown",
   "id": "58977a16-df81-47d4-a35c-9e69e492dbe4",
   "metadata": {
    "tags": []
   },
   "source": [
    "#### __Скрипт на создание таблицы и её заполнение__"
   ]
  },
  {
   "cell_type": "code",
   "execution_count": 26,
   "id": "35b944f8-4eb5-4dc9-a464-32c6a86441dd",
   "metadata": {
    "tags": []
   },
   "outputs": [
    {
     "name": "stdout",
     "output_type": "stream",
     "text": [
      "Script completed\n"
     ]
    }
   ],
   "source": [
    "import clickhouse_connect\n",
    "\n",
    "\n",
    "client = clickhouse_connect.get_client(host='db.mpkazantsev.ru',\n",
    "                                       port=8123, \n",
    "                                       database='datasets')\n",
    "\n",
    "client.command(get_create_query_based_on_csv_file(path_to_csv_file='/home/alexander/honda_sell_data.csv',\n",
    "                                                 table_name_to_create='maindb.ad_honda_sell_data',\n",
    "                                                 order_column_names=['Year']))\n",
    "\n",
    "do_insert(client,\n",
    "          path_to_csv_file='/home/alexander/honda_sell_data.csv',\n",
    "          table_name='maindb.ad_honda_sell_data')\n",
    "\n",
    "print('Script completed')\n"
   ]
  },
  {
   "cell_type": "code",
   "execution_count": 24,
   "id": "9cba6da7-0232-473f-be1b-4081484e381f",
   "metadata": {
    "tags": []
   },
   "outputs": [
    {
     "name": "stdout",
     "output_type": "stream",
     "text": [
      "Year 2023 <class 'int'>\n",
      "Make Honda <class 'str'>\n",
      "Model Ridgeline RTL <class 'str'>\n",
      "Condition New <class 'str'>\n",
      "Price $46,370 <class 'str'>\n",
      "Consumer_Rating 4.8 <class 'float'>\n",
      "Consumer_Review_# 9 <class 'int'>\n",
      "Exterior_Color Platinum White Pearl <class 'str'>\n",
      "Interior_Color Beige <class 'str'>\n",
      "Drivetrain All-wheel Drive <class 'str'>\n",
      "MPG  <class 'str'>\n",
      "Fuel_Type Gasoline <class 'str'>\n",
      "Transmission Automatic <class 'str'>\n",
      "Engine 3.5L V6 24V GDI SOHC <class 'str'>\n",
      "VIN 5FPYK3F58PB011817 <class 'str'>\n",
      "Stock_# 830164 <class 'int'>\n",
      "Mileage 10 <class 'int'>\n",
      "Comfort_Rating 5.0 <class 'float'>\n",
      "Interior_Design_Rating 4.8 <class 'float'>\n",
      "Performance_Rating 4.8 <class 'float'>\n",
      "Value_For_Money_Rating 4.2 <class 'float'>\n",
      "Exterior_Styling_Rating 5.0 <class 'float'>\n",
      "Reliability_Rating 5.0 <class 'float'>\n",
      "State CA <class 'str'>\n",
      "Seller_Type Dealer <class 'str'>\n",
      "Year 2023 <class 'int'>\n",
      "Make Honda <class 'str'>\n",
      "Model CR-V Hybrid Sport <class 'str'>\n",
      "Condition New <class 'str'>\n",
      "Price $34,150 <class 'str'>\n",
      "Consumer_Rating 1.7 <class 'float'>\n",
      "Consumer_Review_# 24 <class 'int'>\n",
      "Exterior_Color Platinum White Pearl <class 'str'>\n",
      "Interior_Color Black <class 'str'>\n",
      "Drivetrain FWD <class 'str'>\n",
      "MPG  <class 'str'>\n",
      "Fuel_Type Hybrid <class 'str'>\n",
      "Transmission Automatic CVT <class 'str'>\n",
      "Engine 2.0L I4 16V GDI DOHC Hybrid <class 'str'>\n",
      "VIN 2HKRS5H5XPH702953 <class 'str'>\n",
      "Stock_# 6402953 <class 'int'>\n",
      "Mileage – <class 'str'>\n",
      "Comfort_Rating 5.0 <class 'float'>\n",
      "Interior_Design_Rating 3.0 <class 'float'>\n",
      "Performance_Rating 4.0 <class 'float'>\n",
      "Value_For_Money_Rating 4.0 <class 'float'>\n",
      "Exterior_Styling_Rating 5.0 <class 'float'>\n",
      "Reliability_Rating 5.0 <class 'float'>\n",
      "State CA <class 'str'>\n",
      "Seller_Type Dealer <class 'str'>\n"
     ]
    }
   ],
   "source": [
    "import pandas as pd\n",
    "\n",
    "df_iterator = pd.read_csv('/home/alexander/honda_sell_data.csv', chunksize=1, na_filter=False)\n",
    "i = 0\n",
    "for df in df_iterator:\n",
    "    for v, g in df.iloc[0].to_dict().items():\n",
    "        print(v, g, type(g))\n",
    "    # print(df.iloc[0])\n",
    "    i += 1\n",
    "    if i == 2:\n",
    "        break"
   ]
  }
 ],
 "metadata": {
  "kernelspec": {
   "display_name": "Python 3 (ipykernel)",
   "language": "python",
   "name": "python3"
  },
  "language_info": {
   "codemirror_mode": {
    "name": "ipython",
    "version": 3
   },
   "file_extension": ".py",
   "mimetype": "text/x-python",
   "name": "python",
   "nbconvert_exporter": "python",
   "pygments_lexer": "ipython3",
   "version": "3.10.6"
  }
 },
 "nbformat": 4,
 "nbformat_minor": 5
}
