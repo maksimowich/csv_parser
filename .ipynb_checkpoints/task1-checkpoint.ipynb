{
 "cells": [
  {
   "cell_type": "code",
   "execution_count": 12,
   "id": "0b58bd94-1457-49d3-874e-0be3fdc98d81",
   "metadata": {
    "tags": []
   },
   "outputs": [],
   "source": [
    "!source env/bin/activate"
   ]
  },
  {
   "cell_type": "code",
   "execution_count": null,
   "id": "7b6841ab-c57f-4fee-8218-6f93aebd36ed",
   "metadata": {
    "tags": []
   },
   "outputs": [],
   "source": [
    "!pip install clickhouse_connect"
   ]
  },
  {
   "cell_type": "code",
   "execution_count": null,
   "id": "4eef7bc4-f592-4ddb-8c8a-c0064e4875a8",
   "metadata": {
    "tags": []
   },
   "outputs": [],
   "source": [
    "!pip install numpy"
   ]
  },
  {
   "cell_type": "markdown",
   "id": "87d5b101-6009-4fe0-8eb6-6ba026121219",
   "metadata": {
    "tags": []
   },
   "source": [
    "#### Вспомогательные функции для обработки строк"
   ]
  },
  {
   "cell_type": "code",
   "execution_count": 261,
   "id": "f43b6bef-6596-4561-884b-0c9f1cf77f1c",
   "metadata": {
    "tags": []
   },
   "outputs": [],
   "source": [
    "#helper functions\n",
    "\n",
    "def get_type_of_string_value(str_value, is_nullable):\n",
    "    if str_value == '':\n",
    "        return None\n",
    "    try:\n",
    "        int(str_value)\n",
    "        return 'Nullable(Int)' if is_nullable else 'Int'\n",
    "    except ValueError:\n",
    "        pass\n",
    "    try:\n",
    "        float(str_value)\n",
    "        return 'Nullable(Float)' if is_nullable else 'Int'\n",
    "    except ValueError:\n",
    "        pass\n",
    "    return 'Nullable(String)' if is_nullable else 'Int'\n",
    "\n",
    "\n",
    "def get_value_or_null(value, expected_type):\n",
    "    if value == '':\n",
    "        return 'Null'\n",
    "    elif expected_type in (int, float):\n",
    "        try:\n",
    "            expected_type(value)\n",
    "            return str(value)\n",
    "        except ValueError:\n",
    "            return 'Null'\n",
    "    elif expected_type == str:\n",
    "        return \"'\" + value + \"'\"\n",
    "\n",
    "\n",
    "def remove_first_escape(str_value):\n",
    "    if str_value.startswith('\\n'):\n",
    "        return str_value[1:]\n",
    "    else:\n",
    "        return str_value\n",
    "\n",
    "    \n",
    "def convert_list_to_dict(lst):\n",
    "    res_dct = {lst[i]: lst[i + 1] for i in range(0, len(lst), 2)}\n",
    "    return res_dct\n"
   ]
  },
  {
   "cell_type": "markdown",
   "id": "13b16df7-a77e-48e1-afdb-a06c720799b5",
   "metadata": {
    "tags": []
   },
   "source": [
    "##### *__get_create_query_based_on_csv_file__* возвращает  sql-запрос в виде строки на создание таблицы\n",
    "##### *__get_column_types_from_csv__* возвращает словарь {имя колонки: тип колонки, ...}, основанный на csv файле"
   ]
  },
  {
   "cell_type": "code",
   "execution_count": 268,
   "id": "55151fdc-3c70-48ad-aa1a-0b271c367602",
   "metadata": {
    "tags": []
   },
   "outputs": [],
   "source": [
    "def get_column_types_from_csv(path_to_csv_file, order_column_names):\n",
    "    dict_of_column_types = dict()\n",
    "    with open(path_to_csv_file, 'r') as file:\n",
    "        for row in csv.DictReader(file):\n",
    "            dict_of_column_types.update({column_name: get_type_of_string_value(value, is_nullable=(column_name not in order_column_names))\n",
    "                                            for column_name, value in row.items()\n",
    "                                            if column_name not in dict_of_column_types or value is not None})\n",
    "            if None not in dict_of_column_types.values():\n",
    "                break\n",
    "    return dict_of_column_types\n",
    "\n",
    "\n",
    "def get_create_query_based_on_csv_file(path_to_csv_file, table_name_to_create, order_column_names):\n",
    "    dict_of_column_types = get_column_types_from_csv(path_to_csv_file, order_column_names)\n",
    "    string_of_column_names_and_types = \", \".join(['`' + column_name + '` ' + column_type\n",
    "                                                      for column_name, column_type in dict_of_column_types.items()])\n",
    "    return ('''CREATE TABLE IF NOT EXISTS {} ({}) ENGINE = MergeTree ORDER BY ({});'''\n",
    "        .format(table_name_to_create,\n",
    "                string_of_column_names_and_types,\n",
    "                ', '.join(list(map(lambda x: '`' + x + '`', order_column_names)))))\n"
   ]
  },
  {
   "cell_type": "markdown",
   "id": "18321107-96a9-419a-86dd-18860b401d1b",
   "metadata": {
    "tags": []
   },
   "source": [
    "##### *__get_column_types_from_table__* возвращает словарь {имя колонки: тип колонки, ...}, основанный таблице\n",
    "##### *__get_insert_query__* возвращает sql-запрос в виде строки на вставку строки таблицы"
   ]
  },
  {
   "cell_type": "code",
   "execution_count": 263,
   "id": "57f2a3fb-7ffb-4e5a-ba15-a9d0791dfe94",
   "metadata": {
    "tags": []
   },
   "outputs": [],
   "source": [
    "type_mapper = {'Int32': int,\n",
    "               'Float32': float,\n",
    "               'String': str,\n",
    "               'Nullable(Int32)': int,\n",
    "               'Nullable(Float32)': float,\n",
    "               'Nullable(String)': str}\n",
    "\n",
    "\n",
    "def get_column_types_from_table(client, table_name):\n",
    "    query_result = client.command('DESCRIBE TABLE {};'.format(table_name))\n",
    "    query_result_adapted = map(remove_first_escape, (filter(lambda x : x != '', query_result)))\n",
    "    list_of_column_names_and_types = list(map(lambda x: type_mapper.get(x, x), query_result_adapted))\n",
    "    return convert_list_to_dict(list_of_column_names_and_types)\n",
    "\n",
    "\n",
    "def get_insert_query(table_name, row, column_types):\n",
    "    row_values = \", \".join([get_value_or_null(column_value, column_types[column_name]) for column_name, column_value in row.items()])\n",
    "    return '''INSERT INTO {} (*) VALUES ({});'''.format(table_name, row_values)\n"
   ]
  },
  {
   "cell_type": "markdown",
   "id": "0830c7be-7514-4562-8c60-d32e920fe29e",
   "metadata": {
    "tags": []
   },
   "source": [
    "##### *__do_insert__* осуществляет вставку строк из csv в таблицу"
   ]
  },
  {
   "cell_type": "code",
   "execution_count": 264,
   "id": "211b8dc8-8710-4a2e-b0e1-28eb62bf68de",
   "metadata": {
    "tags": []
   },
   "outputs": [],
   "source": [
    "def do_insert(client, path_to_csv_file, table_name):\n",
    "    column_types = get_column_types_from_table(client, table_name)\n",
    "    with open(path_to_csv_file, 'r') as file:\n",
    "        for row in csv.DictReader(file):\n",
    "            insert_query = get_insert_query(table_name, row, column_types)\n",
    "            client.command(insert_query)"
   ]
  },
  {
   "cell_type": "markdown",
   "id": "58977a16-df81-47d4-a35c-9e69e492dbe4",
   "metadata": {
    "tags": []
   },
   "source": [
    "#### __Скрипт на создание таблицы и её заполнение__"
   ]
  },
  {
   "cell_type": "code",
   "execution_count": 270,
   "id": "35b944f8-4eb5-4dc9-a464-32c6a86441dd",
   "metadata": {
    "tags": []
   },
   "outputs": [
    {
     "name": "stdout",
     "output_type": "stream",
     "text": [
      "Script completed\n"
     ]
    }
   ],
   "source": [
    "import clickhouse_connect\n",
    "\n",
    "\n",
    "client = clickhouse_connect.get_client(host='db.mpkazantsev.ru',\n",
    "                                       port=8123, \n",
    "                                       database='datasets')\n",
    "\n",
    "client.command(get_create_query_based_on_csv_file('/home/alexander/honda_sell_data.csv',\n",
    "                                                 'maindb.ad_honda_sell_data',\n",
    "                                                 ['Year']))\n",
    "\n",
    "do_insert(client, '/home/alexander/honda_sell_data.csv', 'maindb.ad_honda_sell_data')\n",
    "\n",
    "print('Script completed')\n"
   ]
  }
 ],
 "metadata": {
  "kernelspec": {
   "display_name": "Python 3 (ipykernel)",
   "language": "python",
   "name": "python3"
  },
  "language_info": {
   "codemirror_mode": {
    "name": "ipython",
    "version": 3
   },
   "file_extension": ".py",
   "mimetype": "text/x-python",
   "name": "python",
   "nbconvert_exporter": "python",
   "pygments_lexer": "ipython3",
   "version": "3.10.6"
  }
 },
 "nbformat": 4,
 "nbformat_minor": 5
}
