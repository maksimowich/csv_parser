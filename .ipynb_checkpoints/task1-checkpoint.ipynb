{
 "cells": [
  {
   "cell_type": "markdown",
   "id": "87d5b101-6009-4fe0-8eb6-6ba026121219",
   "metadata": {
    "jp-MarkdownHeadingCollapsed": true,
    "tags": []
   },
   "source": [
    "#### Вспомогательные функции для обработки строк"
   ]
  },
  {
   "cell_type": "code",
   "execution_count": 1,
   "id": "458cbf84-ded2-485c-84b8-63cd9025f16d",
   "metadata": {
    "tags": []
   },
   "outputs": [],
   "source": [
    "#helper functions\n",
    "\n",
    "def get_type_of_string_value(str_value, is_nullable):\n",
    "    if str_value == '':\n",
    "        return None\n",
    "    try:\n",
    "        int(str_value)\n",
    "        return 'Nullable(Int)' if is_nullable else 'Int'\n",
    "    except ValueError:\n",
    "        pass\n",
    "    try:\n",
    "        float(str_value)\n",
    "        return 'Nullable(Float)' if is_nullable else 'Int'\n",
    "    except ValueError:\n",
    "        pass\n",
    "    return 'Nullable(String)' if is_nullable else 'Int'\n",
    "\n",
    "\n",
    "def get_value_or_null(value, expected_type):\n",
    "    if value == '':\n",
    "        return 'Null'\n",
    "    elif expected_type in (int, float):\n",
    "        try:\n",
    "            expected_type(value)\n",
    "            return str(value)\n",
    "        except ValueError:\n",
    "            return 'Null'\n",
    "    elif expected_type == str:\n",
    "        return \"'\" + value + \"'\"\n",
    "\n",
    "\n",
    "def remove_first_escape(str_value):\n",
    "    if str_value.startswith('\\n'):\n",
    "        return str_value[1:]\n",
    "    else:\n",
    "        return str_value\n",
    "\n",
    "    \n",
    "def convert_list_to_dict(lst):\n",
    "    res_dct = {lst[i]: lst[i + 1] for i in range(0, len(lst), 2)}\n",
    "    return res_dct\n"
   ]
  },
  {
   "cell_type": "markdown",
   "id": "7e5f87cb-5029-4560-8c2d-1a184b0235fa",
   "metadata": {
    "tags": []
   },
   "source": [
    "#### Ручные корретировки (все строки с колонкой Seller-Type = 'Individual' внесены некорректно)"
   ]
  },
  {
   "cell_type": "code",
   "execution_count": 3,
   "id": "8cace04e-ff20-4d14-8f1f-1069b7449bd8",
   "metadata": {
    "tags": []
   },
   "outputs": [],
   "source": [
    "def apply_manual_adj_with_honda_dataset(row: dict):\n",
    "    if row.get('Seller_Type', None) == 'Individual':\n",
    "        row['Mileage'] = int(row['VIN'].split(' ')[0].replace(',', ''))\n",
    "        row['VIN'] = row['Engine']\n",
    "        row['Engine'] = row['Transmission']\n",
    "        row['Transmission'] = row['Fuel_Type']\n",
    "        row['Stock_#'] = ''\n"
   ]
  },
  {
   "cell_type": "markdown",
   "id": "f5c7047e-7f72-4c3f-a856-bb05ba504190",
   "metadata": {
    "tags": []
   },
   "source": [
    "### Декоратор, замеряющий время работы"
   ]
  },
  {
   "cell_type": "code",
   "execution_count": 4,
   "id": "81466e4e-b7c5-4855-834a-6e506e1d098c",
   "metadata": {
    "tags": []
   },
   "outputs": [],
   "source": [
    "from functools import wraps\n",
    "import time\n",
    "\n",
    "\n",
    "def timeit(func):\n",
    "    @wraps(func)\n",
    "    def timeit_wrapper(*args, **kwargs):\n",
    "        start_time = time.perf_counter()\n",
    "        result = func(*args, **kwargs)\n",
    "        end_time = time.perf_counter()\n",
    "        total_time = end_time - start_time\n",
    "        print('-' * 25)\n",
    "        print(f'Function {func.__name__}{args} {kwargs} Took {total_time:.4f} seconds')\n",
    "        print('-' * 25)\n",
    "        return result\n",
    "    return timeit_wrapper\n"
   ]
  },
  {
   "cell_type": "markdown",
   "id": "13b16df7-a77e-48e1-afdb-a06c720799b5",
   "metadata": {
    "tags": []
   },
   "source": [
    "##### *__get_column_types_from_csv__* возвращает словарь {имя колонки: тип колонки, ...}, основанный на csv файле\n",
    "##### *__get_create_query_based_on_csv_file__* возвращает  sql-запрос в виде строки на создание таблицы\n",
    "##### *__get_delete_query__* возвращает  sql-запрос в виде строки на удаление таблицы"
   ]
  },
  {
   "cell_type": "code",
   "execution_count": 5,
   "id": "55151fdc-3c70-48ad-aa1a-0b271c367602",
   "metadata": {
    "tags": []
   },
   "outputs": [],
   "source": [
    "import clickhouse_connect\n",
    "import csv\n",
    "\n",
    "\n",
    "def get_column_types_from_csv(path_to_csv_file: str,\n",
    "                              order_column_names: list) -> dict:\n",
    "    dict_of_column_types = dict()\n",
    "    with open(path_to_csv_file, 'r') as file:\n",
    "        for row in csv.DictReader(file):\n",
    "            dict_of_column_types.update({column_name: get_type_of_string_value(value, is_nullable=(column_name not in order_column_names))\n",
    "                                            for column_name, value in row.items()\n",
    "                                            if column_name not in dict_of_column_types or value is not None})\n",
    "            if None not in dict_of_column_types.values():\n",
    "                break\n",
    "    return dict_of_column_types\n",
    "\n",
    "\n",
    "def get_create_query_based_on_csv_file(path_to_csv_file: str,\n",
    "                                       table_name: str,\n",
    "                                       order_column_names: list,\n",
    "                                       table_engine='MergeTree',\n",
    "                                       partition_column_names=[]) -> str:\n",
    "    dict_of_column_types = get_column_types_from_csv(path_to_csv_file, order_column_names)\n",
    "    string_of_column_names_and_types = \", \".join(['`' + column_name + '` ' + column_type\n",
    "                                                    for column_name, column_type in dict_of_column_types.items()])\n",
    "    order_by_part = '' if len(order_column_names) == 0 else 'ORDER BY ({})'.format(', '.join(list(map(lambda x: '`' + x + '`', order_column_names))))\n",
    "    partition_by_part = '' if len(partition_column_names) == 0 else 'PARTITION BY ({})'.format(', '.join(partition_column_names))\n",
    "    return ('''CREATE TABLE IF NOT EXISTS {} ({}) ENGINE = {} {} {};'''\n",
    "        .format(table_name,\n",
    "                string_of_column_names_and_types,\n",
    "                table_engine,\n",
    "                partition_by_part,\n",
    "                order_by_part))\n",
    "\n",
    "\n",
    "def get_delete_query(table_name: str) -> str:\n",
    "    return \"DROP TABLE IF EXISTS {};\".format(table_name)\n"
   ]
  },
  {
   "cell_type": "markdown",
   "id": "18321107-96a9-419a-86dd-18860b401d1b",
   "metadata": {
    "tags": []
   },
   "source": [
    "##### *__get_column_types_from_table__* возвращает словарь {имя колонки: тип колонки, ...}, основанный таблице"
   ]
  },
  {
   "cell_type": "code",
   "execution_count": 6,
   "id": "57f2a3fb-7ffb-4e5a-ba15-a9d0791dfe94",
   "metadata": {
    "tags": []
   },
   "outputs": [],
   "source": [
    "type_mapper = {\n",
    "               'Int32': int,\n",
    "               'Float32': float,\n",
    "               'String': str,\n",
    "               'Nullable(Int32)': int,\n",
    "               'Nullable(Float32)': float,\n",
    "               'Nullable(String)': str\n",
    "              }\n",
    "\n",
    "\n",
    "def get_column_types_from_table(client: clickhouse_connect.driver.httpclient.HttpClient,\n",
    "                                table_name: str) -> dict:\n",
    "    query_result = client.command('DESCRIBE TABLE {};'.format(table_name))\n",
    "    query_result_adapted = map(remove_first_escape, (filter(lambda x : x != '', query_result)))\n",
    "    list_of_column_names_and_types = list(map(lambda x: type_mapper.get(x, x), query_result_adapted))\n",
    "    return convert_list_to_dict(list_of_column_names_and_types)\n"
   ]
  },
  {
   "cell_type": "markdown",
   "id": "0830c7be-7514-4562-8c60-d32e920fe29e",
   "metadata": {
    "tags": []
   },
   "source": [
    "##### *__do_insert__* осуществляет вставку строк из csv в таблицу"
   ]
  },
  {
   "cell_type": "code",
   "execution_count": 15,
   "id": "211b8dc8-8710-4a2e-b0e1-28eb62bf68de",
   "metadata": {
    "tags": []
   },
   "outputs": [],
   "source": [
    "import pandas as pd\n",
    "from string import Template\n",
    "from overrides import override\n",
    "from abc import ABC, abstractmethod, ABCMeta\n",
    "from typing import Callable\n",
    "\n",
    "\n",
    "class InserterInterface(metaclass=ABCMeta):\n",
    "    insert_query_template = Template('INSERT INTO $table_name (*) VALUES ')\n",
    "    \n",
    "    @staticmethod\n",
    "    @abstractmethod\n",
    "    def insert(client: clickhouse_connect.driver.httpclient.HttpClient,\n",
    "               path_to_csv_file: str,\n",
    "               table_name: str,\n",
    "               batch_size: int,\n",
    "               column_types: dict,\n",
    "               apply_manual_adj: Callable):\n",
    "        pass\n",
    "\n",
    "\n",
    "class PandasInserter(InserterInterface):\n",
    "    @override\n",
    "    def insert(client, path_to_csv_file, table_name, batch_size, column_types, apply_manual_adj=lambda: None):\n",
    "        insert_query = InserterInterface.insert_query_template.substitute(table_name=table_name)\n",
    "        df_iterator = pd.read_csv(path_to_csv_file, chunksize=batch_size, na_filter=False)\n",
    "        for df in df_iterator:\n",
    "            row_list = []\n",
    "            for row_index in range(df.shape[0]):\n",
    "                row = df.iloc[row_index].to_dict()#.items()\n",
    "                apply_manual_adj(row)\n",
    "                row_values = \", \".join([get_value_or_null(str(column_value), column_types[column_name]) for column_name, column_value in row.items()])\n",
    "                row_list.append('(' + row_values + ')')\n",
    "            client.command(insert_query + ','.join(row_list))\n",
    "\n",
    "\n",
    "class SimpleInserter(InserterInterface):\n",
    "    @override\n",
    "    def insert(client, path_to_csv_file, table_name, batch_size, column_types, apply_manual_adj=lambda: None):\n",
    "        insert_query = InserterInterface.insert_query_template.substitute(table_name=table_name)\n",
    "        with open(path_to_csv_file, 'r') as file:\n",
    "            row_list = []\n",
    "            for i, row in enumerate(csv.DictReader(file)):\n",
    "                apply_manual_adj(row) if apply_manual_adj is not None else None\n",
    "                row_values = \", \".join([get_value_or_null(column_value, column_types[column_name])\n",
    "                                        for column_name, column_value in row.items()])\n",
    "                row_list.append('(' + row_values + ')')\n",
    "                if (len(row_list) == batch_size):\n",
    "                    client.command(insert_query + ','.join(row_list))\n",
    "                    row_list = []\n",
    "            else:\n",
    "                if (len(row_list) != 0):\n",
    "                    client.command(insert_query + ','.join(row_list))\n",
    "    # @staticmethod\n",
    "    # def ss():\n",
    "    #     print('123')\n",
    "\n",
    "    \n",
    "    \n",
    "    \n",
    "    \n",
    "    \n",
    "                \n",
    "# def insert_without_pandas(client: clickhouse_connect.driver.httpclient.HttpClient,\n",
    "#                           path_to_csv_file: str,\n",
    "#                           insert_query: str,\n",
    "#                           batch_size: int,\n",
    "#                           column_types: dict,\n",
    "#                           apply_manual_adj=None):\n",
    "#     with open(path_to_csv_file, 'r') as file:\n",
    "#         row_list = []\n",
    "#         for i, row in enumerate(csv.DictReader(file)):\n",
    "#             apply_manual_adj(row) if apply_manual_adj is not None else None\n",
    "#             row_values = \", \".join([get_value_or_null(column_value, column_types[column_name])\n",
    "#                                     for column_name, column_value in row.items()])\n",
    "#             row_list.append('(' + row_values + ')')\n",
    "#             if (len(row_list) == batch_size):\n",
    "#                 client.command(insert_query + ','.join(row_list))\n",
    "#                 row_list = []\n",
    "#         else:\n",
    "#             if (len(row_list) != 0):\n",
    "#                 client.command(insert_query + ','.join(row_list))\n",
    "\n",
    "\n",
    "# def insert_with_pandas(client: clickhouse_connect.driver.httpclient.HttpClient,\n",
    "#                        path_to_csv_file: str,\n",
    "#                        insert_query: str,\n",
    "#                        batch_size: int,\n",
    "#                        column_types: dict,\n",
    "#                        apply_manual_adj=None):\n",
    "#     df_iterator = pd.read_csv(path_to_csv_file, chunksize=batch_size, na_filter=False)\n",
    "#     for df in df_iterator:\n",
    "#         row_list = []\n",
    "#         for row_index in range(df.shape[0]):\n",
    "#             row = df.iloc[row_index].to_dict()#.items()\n",
    "#             apply_manual_adj(row) if apply_manual_adj is not None else None\n",
    "#             row_values = \", \".join([get_value_or_null(str(column_value), column_types[column_name]) for column_name, column_value in row.items()])\n",
    "#             row_list.append('(' + row_values + ')')\n",
    "#         client.command(insert_query + ','.join(row_list))\n",
    "        \n",
    "        \n",
    "def do_insert(client: clickhouse_connect.driver.httpclient.HttpClient,\n",
    "              path_to_csv_file: str,\n",
    "              table_name: str,\n",
    "              batch_size: int,\n",
    "              inserter: InserterInterface,\n",
    "              apply_manual_adj=lambda: None):\n",
    "    column_types = get_column_types_from_table(client, table_name)\n",
    "    inserter.insert(client, path_to_csv_file, table_name, batch_size, column_types, apply_manual_adj)\n",
    "\n",
    "# def ss(inserter: InserterInterface):\n",
    "#     inserter.ss()\n",
    "    \n",
    "# ss(SimpleInserter)"
   ]
  },
  {
   "cell_type": "code",
   "execution_count": 16,
   "id": "d46f41bc-2e6b-4f40-8d6f-fa9f53832ba8",
   "metadata": {
    "tags": []
   },
   "outputs": [],
   "source": [
    "@timeit\n",
    "def do_insert_timed(client: clickhouse_connect.driver.httpclient.HttpClient,\n",
    "                    path_to_csv_file: str,\n",
    "                    table_name: str,\n",
    "                    batch_size: int,\n",
    "                    inserter: InserterInterface,\n",
    "                    apply_manual_adj=lambda: None):\n",
    "    do_insert(client, path_to_csv_file, table_name, batch_size, inserter, apply_manual_adj)\n"
   ]
  },
  {
   "cell_type": "markdown",
   "id": "396f27f5-aaf9-4263-962c-44ebf27d6513",
   "metadata": {
    "tags": []
   },
   "source": [
    "##### Обернём процесс создания, заполнения и удаления таблицы в функцию для удобства\n",
    "##### Измеряем время заполнения таблицы при различных параметрах"
   ]
  },
  {
   "cell_type": "code",
   "execution_count": 17,
   "id": "f714afdd-665d-4320-9d4c-616997454d99",
   "metadata": {
    "tags": []
   },
   "outputs": [],
   "source": [
    "def do_create_insert_delete_operation(client: clickhouse_connect.driver.httpclient.HttpClient,\n",
    "                                      path_to_csv_file: str,\n",
    "                                      table_name: str,\n",
    "                                      table_engine: str,\n",
    "                                      order_column_names: list,\n",
    "                                      batch_size: int,\n",
    "                                      inserter: InserterInterface,\n",
    "                                      apply_manual_adj=lambda: None):\n",
    "    client.command(get_create_query_based_on_csv_file(path_to_csv_file, table_name, order_column_names, table_engine))\n",
    "    do_insert_timed(client, path_to_csv_file, table_name, batch_size, inserter, apply_manual_adj)\n",
    "    client.command(get_delete_query(table_name))\n"
   ]
  },
  {
   "cell_type": "markdown",
   "id": "dfd7bd5d-a923-4e7e-aadc-a96798a0a49c",
   "metadata": {
    "tags": []
   },
   "source": [
    "#### __Смотрим движок MergeTree без pandas__"
   ]
  },
  {
   "cell_type": "code",
   "execution_count": 18,
   "id": "ab4e1baa-5d3e-4572-ac4f-66689540db3b",
   "metadata": {
    "tags": []
   },
   "outputs": [
    {
     "name": "stdout",
     "output_type": "stream",
     "text": [
      "-------------------------\n",
      "Function do_insert_timed(<clickhouse_connect.driver.httpclient.HttpClient object at 0x7f98732be950>, '/home/alexander/honda_sell_data.csv', 'maindb.ad_honda_sell_data_MergeTree', 1, <class '__main__.SimpleInserter'>, <function apply_manual_adj_with_honda_dataset at 0x7f98a9f7bd00>) {} Took 18.6629 seconds\n",
      "-------------------------\n",
      "-------------------------\n",
      "Function do_insert_timed(<clickhouse_connect.driver.httpclient.HttpClient object at 0x7f98732be950>, '/home/alexander/honda_sell_data.csv', 'maindb.ad_honda_sell_data_MergeTree', 1000, <class '__main__.SimpleInserter'>, <function apply_manual_adj_with_honda_dataset at 0x7f98a9f7bd00>) {} Took 0.1669 seconds\n",
      "-------------------------\n",
      "-------------------------\n",
      "Function do_insert_timed(<clickhouse_connect.driver.httpclient.HttpClient object at 0x7f98732be950>, '/home/alexander/honda_sell_data.csv', 'maindb.ad_honda_sell_data_MergeTree', 2500, <class '__main__.SimpleInserter'>, <function apply_manual_adj_with_honda_dataset at 0x7f98a9f7bd00>) {} Took 0.1505 seconds\n",
      "-------------------------\n",
      "-------------------------\n",
      "Function do_insert_timed(<clickhouse_connect.driver.httpclient.HttpClient object at 0x7f98732be950>, '/home/alexander/honda_sell_data.csv', 'maindb.ad_honda_sell_data_MergeTree', 5000, <class '__main__.SimpleInserter'>, <function apply_manual_adj_with_honda_dataset at 0x7f98a9f7bd00>) {} Took 0.1503 seconds\n",
      "-------------------------\n",
      "Script completed\n"
     ]
    }
   ],
   "source": [
    "client = clickhouse_connect.get_client(host='db.mpkazantsev.ru',\n",
    "                                       port=8123, \n",
    "                                       database='datasets')\n",
    "\n",
    "parametrs = {\n",
    "              'client': client,\n",
    "              'path_to_csv_file': '/home/alexander/honda_sell_data.csv',\n",
    "              'table_name': 'maindb.ad_honda_sell_data_MergeTree',\n",
    "              'table_engine': 'MergeTree',\n",
    "              'order_column_names': ['Year'],\n",
    "              'inserter': SimpleInserter,\n",
    "              'apply_manual_adj': apply_manual_adj_with_honda_dataset,\n",
    "             }\n",
    "\n",
    "do_create_insert_delete_operation(**parametrs, batch_size=1)\n",
    "\n",
    "do_create_insert_delete_operation(**parametrs, batch_size=1000)\n",
    "\n",
    "do_create_insert_delete_operation(**parametrs, batch_size=2500)\n",
    "\n",
    "do_create_insert_delete_operation(**parametrs, batch_size=5000)\n",
    "\n",
    "\n",
    "print('Script completed')\n"
   ]
  },
  {
   "cell_type": "markdown",
   "id": "3f847387-cc93-4b31-942d-aa0293354d2f",
   "metadata": {
    "jp-MarkdownHeadingCollapsed": true,
    "tags": []
   },
   "source": [
    "#### __Смотрим движок TinyLog без pandas__"
   ]
  },
  {
   "cell_type": "code",
   "execution_count": 19,
   "id": "61e1bb9d-6636-4999-ad05-15ba1ed57130",
   "metadata": {
    "tags": []
   },
   "outputs": [
    {
     "name": "stdout",
     "output_type": "stream",
     "text": [
      "-------------------------\n",
      "Function do_insert_timed(<clickhouse_connect.driver.httpclient.HttpClient object at 0x7f62dce07670>, '/home/alexander/honda_sell_data.csv', 'maindb.ad_honda_sell_data', 1, False) {} Took 38.1536 seconds\n",
      "-------------------------\n",
      "-------------------------\n",
      "Function do_insert_timed(<clickhouse_connect.driver.httpclient.HttpClient object at 0x7f62dce07670>, '/home/alexander/honda_sell_data.csv', 'maindb.ad_honda_sell_data', 1000, False) {} Took 0.1743 seconds\n",
      "-------------------------\n",
      "-------------------------\n",
      "Function do_insert_timed(<clickhouse_connect.driver.httpclient.HttpClient object at 0x7f62dce07670>, '/home/alexander/honda_sell_data.csv', 'maindb.ad_honda_sell_data', 2500, False) {} Took 0.1538 seconds\n",
      "-------------------------\n",
      "-------------------------\n",
      "Function do_insert_timed(<clickhouse_connect.driver.httpclient.HttpClient object at 0x7f62dce07670>, '/home/alexander/honda_sell_data.csv', 'maindb.ad_honda_sell_data', 5000, False) {} Took 0.1452 seconds\n",
      "-------------------------\n",
      "Script completed\n"
     ]
    }
   ],
   "source": [
    "client = clickhouse_connect.get_client(host='db.mpkazantsev.ru',\n",
    "                                       port=8123, \n",
    "                                       database='datasets')\n",
    "\n",
    "parametrs = {\n",
    "              'client': client,\n",
    "              'path_to_csv_file': '/home/alexander/honda_sell_data.csv',\n",
    "              'table_name': 'maindb.ad_honda_sell_data',\n",
    "              'table_engine': 'TinyLog',\n",
    "              'order_column_names': [],\n",
    "              'pandas_flag': False \n",
    "             }\n",
    "\n",
    "do_create_insert_delete_operation(**parametrs, batch_size=1)\n",
    "\n",
    "do_create_insert_delete_operation(**parametrs, batch_size=1000)\n",
    "\n",
    "do_create_insert_delete_operation(**parametrs, batch_size=2500)\n",
    "\n",
    "do_create_insert_delete_operation(**parametrs, batch_size=5000)\n",
    "\n",
    "print('Script completed')\n"
   ]
  },
  {
   "cell_type": "markdown",
   "id": "58977a16-df81-47d4-a35c-9e69e492dbe4",
   "metadata": {
    "jp-MarkdownHeadingCollapsed": true,
    "tags": []
   },
   "source": [
    "#### __Смотрим движок MergeTree c pandas__"
   ]
  },
  {
   "cell_type": "code",
   "execution_count": 13,
   "id": "35b944f8-4eb5-4dc9-a464-32c6a86441dd",
   "metadata": {
    "tags": []
   },
   "outputs": [
    {
     "name": "stdout",
     "output_type": "stream",
     "text": [
      "-------------------------\n",
      "Function do_insert_timed(<clickhouse_connect.driver.httpclient.HttpClient object at 0x7f62dd1de2f0>, '/home/alexander/honda_sell_data.csv', 'maindb.ad_honda_sell_data', 1, True) {} Took 33.8825 seconds\n",
      "-------------------------\n",
      "-------------------------\n",
      "Function do_insert_timed(<clickhouse_connect.driver.httpclient.HttpClient object at 0x7f62dd1de2f0>, '/home/alexander/honda_sell_data.csv', 'maindb.ad_honda_sell_data', 1000, True) {} Took 1.0608 seconds\n",
      "-------------------------\n",
      "-------------------------\n",
      "Function do_insert_timed(<clickhouse_connect.driver.httpclient.HttpClient object at 0x7f62dd1de2f0>, '/home/alexander/honda_sell_data.csv', 'maindb.ad_honda_sell_data', 2500, True) {} Took 1.0388 seconds\n",
      "-------------------------\n",
      "-------------------------\n",
      "Function do_insert_timed(<clickhouse_connect.driver.httpclient.HttpClient object at 0x7f62dd1de2f0>, '/home/alexander/honda_sell_data.csv', 'maindb.ad_honda_sell_data', 5000, True) {} Took 1.0906 seconds\n",
      "-------------------------\n",
      "Script completed\n"
     ]
    }
   ],
   "source": [
    "client = clickhouse_connect.get_client(host='db.mpkazantsev.ru',\n",
    "                                       port=8123, \n",
    "                                       database='datasets')\n",
    "\n",
    "parametrs = {\n",
    "              'client': client,\n",
    "              'path_to_csv_file': '/home/alexander/honda_sell_data.csv',\n",
    "              'table_name': 'maindb.ad_honda_sell_data',\n",
    "              'table_engine': 'MergeTree',\n",
    "              'order_column_names': ['Year'],\n",
    "              'pandas_flag': True \n",
    "             }\n",
    "\n",
    "do_create_insert_delete_operation(**parametrs, batch_size=1)\n",
    "\n",
    "do_create_insert_delete_operation(**parametrs, batch_size=1000)\n",
    "\n",
    "do_create_insert_delete_operation(**parametrs, batch_size=2500)\n",
    "\n",
    "do_create_insert_delete_operation(**parametrs, batch_size=5000)\n",
    "\n",
    "\n",
    "print('Script completed')\n"
   ]
  },
  {
   "cell_type": "markdown",
   "id": "226dca8b-a6ad-44c5-af0e-ea8cfda41da5",
   "metadata": {
    "tags": []
   },
   "source": [
    "#### __Смотрим движок TinyLog c pandas__"
   ]
  },
  {
   "cell_type": "code",
   "execution_count": 17,
   "id": "16d51f03-2cef-4cba-baac-c0c8cf0aacae",
   "metadata": {
    "tags": []
   },
   "outputs": [
    {
     "name": "stdout",
     "output_type": "stream",
     "text": [
      "-------------------------\n",
      "Function do_insert_timed(<clickhouse_connect.driver.httpclient.HttpClient object at 0x7f8fb62331f0>, '/home/alexander/honda_sell_data.csv', 'maindb.ad_honda_sell_data', 1) {} Took 39.1875 seconds\n",
      "-------------------------\n",
      "-------------------------\n",
      "Function do_insert_timed(<clickhouse_connect.driver.httpclient.HttpClient object at 0x7f8fb62331f0>, '/home/alexander/honda_sell_data.csv', 'maindb.ad_honda_sell_data', 1000) {} Took 0.1868 seconds\n",
      "-------------------------\n",
      "-------------------------\n",
      "Function do_insert_timed(<clickhouse_connect.driver.httpclient.HttpClient object at 0x7f8fb62331f0>, '/home/alexander/honda_sell_data.csv', 'maindb.ad_honda_sell_data', 2500) {} Took 0.1557 seconds\n",
      "-------------------------\n",
      "-------------------------\n",
      "Function do_insert_timed(<clickhouse_connect.driver.httpclient.HttpClient object at 0x7f8fb62331f0>, '/home/alexander/honda_sell_data.csv', 'maindb.ad_honda_sell_data', 5000) {} Took 0.1446 seconds\n",
      "-------------------------\n",
      "Script completed\n"
     ]
    }
   ],
   "source": [
    "client = clickhouse_connect.get_client(host='db.mpkazantsev.ru',\n",
    "                                       port=8123, \n",
    "                                       database='datasets')\n",
    "\n",
    "parametrs = {\n",
    "              'client': client,\n",
    "              'path_to_csv_file': '/home/alexander/honda_sell_data.csv',\n",
    "              'table_name': 'maindb.ad_honda_sell_data',\n",
    "              'table_engine': 'TinyLog',\n",
    "              'order_column_names': [],\n",
    "              'pandas_flag': True \n",
    "             }\n",
    "\n",
    "do_create_insert_delete_operation(**parametrs, batch_size=1)\n",
    "\n",
    "do_create_insert_delete_operation(**parametrs, batch_size=1000)\n",
    "\n",
    "do_create_insert_delete_operation(**parametrs, batch_size=2500)\n",
    "\n",
    "do_create_insert_delete_operation(**parametrs, batch_size=5000)\n",
    "\n",
    "print('Script completed')\n"
   ]
  },
  {
   "cell_type": "code",
   "execution_count": 20,
   "id": "8cfa1d9b-83a0-42cf-a9f0-6126895a2513",
   "metadata": {
    "tags": []
   },
   "outputs": [
    {
     "name": "stdout",
     "output_type": "stream",
     "text": [
      "-------------------------\n",
      "Function do_insert_timed() {'client': <clickhouse_connect.driver.httpclient.HttpClient object at 0x7f62dce05510>, 'path_to_csv_file': '/home/alexander/honda_sell_data.csv', 'table_name': 'maindb.ad_honda_sell_data_TinyLog', 'batch_size': 5000, 'pandas_flag': False} Took 0.1516 seconds\n",
      "-------------------------\n",
      "Script completed\n"
     ]
    }
   ],
   "source": [
    "client = clickhouse_connect.get_client(host='db.mpkazantsev.ru',\n",
    "                                       port=8123, \n",
    "                                       database='datasets')\n",
    "\n",
    "parametrs1 = {\n",
    "              'path_to_csv_file': '/home/alexander/honda_sell_data.csv',\n",
    "              'table_name': 'maindb.ad_honda_sell_data_TinyLog',\n",
    "              'table_engine': 'TinyLog',\n",
    "              'order_column_names': [],\n",
    "             }\n",
    "\n",
    "parametrs2 = {\n",
    "              'client': client,\n",
    "              'path_to_csv_file': '/home/alexander/honda_sell_data.csv',\n",
    "              'table_name': 'maindb.ad_honda_sell_data_TinyLog',\n",
    "              'batch_size': 5000,\n",
    "              'pandas_flag': False\n",
    "             }\n",
    "\n",
    "client.command(get_create_query_based_on_csv_file(**parametrs1))\n",
    "\n",
    "do_insert_timed(**parametrs2)\n",
    "\n",
    "print('Script completed')\n"
   ]
  },
  {
   "cell_type": "code",
   "execution_count": 27,
   "id": "ba4e9280-1e46-4a30-89d4-29c2f42bd857",
   "metadata": {
    "tags": []
   },
   "outputs": [
    {
     "name": "stdout",
     "output_type": "stream",
     "text": [
      "-------------------------\n",
      "Function do_insert_timed() {'client': <clickhouse_connect.driver.httpclient.HttpClient object at 0x7f62dce073d0>, 'path_to_csv_file': '/home/alexander/honda_sell_data.csv', 'table_name': 'maindb.ad_honda_sell_data_MergeTree', 'batch_size': 1000, 'pandas_flag': False} Took 0.1784 seconds\n",
      "-------------------------\n",
      "Script completed\n"
     ]
    }
   ],
   "source": [
    "client = clickhouse_connect.get_client(host='db.mpkazantsev.ru',\n",
    "                                       port=8123, \n",
    "                                       database='datasets')\n",
    "\n",
    "parametrs1 = {\n",
    "              'path_to_csv_file': '/home/alexander/honda_sell_data.csv',\n",
    "              'table_name': 'maindb.ad_honda_sell_data_MergeTree',\n",
    "              'table_engine': 'MergeTree',\n",
    "              'order_column_names': ['Year'],\n",
    "              'partition_column_names': ['modulo(`Year`, 5)'],\n",
    "             }\n",
    "\n",
    "parametrs2 = {\n",
    "              'client': client,\n",
    "              'path_to_csv_file': '/home/alexander/honda_sell_data.csv',\n",
    "              'table_name': 'maindb.ad_honda_sell_data_MergeTree',\n",
    "              'batch_size': 1000,\n",
    "              'pandas_flag': False\n",
    "             }\n",
    "\n",
    "client.command(get_create_query_based_on_csv_file(**parametrs1))\n",
    "\n",
    "do_insert_timed(**parametrs2)\n",
    "\n",
    "print('Script completed')"
   ]
  }
 ],
 "metadata": {
  "kernelspec": {
   "display_name": "Python 3 (ipykernel)",
   "language": "python",
   "name": "python3"
  },
  "language_info": {
   "codemirror_mode": {
    "name": "ipython",
    "version": 3
   },
   "file_extension": ".py",
   "mimetype": "text/x-python",
   "name": "python",
   "nbconvert_exporter": "python",
   "pygments_lexer": "ipython3",
   "version": "3.10.6"
  }
 },
 "nbformat": 4,
 "nbformat_minor": 5
}
